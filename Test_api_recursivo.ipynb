{
  "nbformat": 4,
  "nbformat_minor": 0,
  "metadata": {
    "colab": {
      "name": "Test-api_recursivo.ipynb",
      "provenance": [],
      "collapsed_sections": [],
      "mount_file_id": "17z_WxTvUoR1tE5huZprarJyXay0PkK13",
      "authorship_tag": "ABX9TyOk2FKNiFpRUR0FWlcKldQW",
      "include_colab_link": true
    },
    "kernelspec": {
      "name": "python3",
      "display_name": "Python 3"
    },
    "language_info": {
      "name": "python"
    }
  },
  "cells": [
    {
      "cell_type": "markdown",
      "metadata": {
        "id": "view-in-github",
        "colab_type": "text"
      },
      "source": [
        "<a href=\"https://colab.research.google.com/github/alfonsopiedrabuena-alt/Facebook_Marketing_API/blob/master/Test_api_recursivo.ipynb\" target=\"_parent\"><img src=\"https://colab.research.google.com/assets/colab-badge.svg\" alt=\"Open In Colab\"/></a>"
      ]
    },
    {
      "cell_type": "markdown",
      "metadata": {
        "id": "1YaLICkyUT-P"
      },
      "source": [
        "###Imports"
      ]
    },
    {
      "cell_type": "code",
      "metadata": {
        "id": "hWo-C26zWi3F",
        "colab": {
          "base_uri": "https://localhost:8080/"
        },
        "outputId": "be01faa1-253f-436b-b95f-181d3385c51d"
      },
      "source": [
        "pip install facebook_business"
      ],
      "execution_count": 48,
      "outputs": [
        {
          "output_type": "stream",
          "text": [
            "Requirement already satisfied: facebook_business in /usr/local/lib/python3.7/dist-packages (11.0.0)\n",
            "Requirement already satisfied: pycountry>=19.8.18 in /usr/local/lib/python3.7/dist-packages (from facebook_business) (20.7.3)\n",
            "Requirement already satisfied: six>=1.7.3 in /usr/local/lib/python3.7/dist-packages (from facebook_business) (1.15.0)\n",
            "Requirement already satisfied: requests>=2.3.0 in /usr/local/lib/python3.7/dist-packages (from facebook_business) (2.23.0)\n",
            "Requirement already satisfied: curlify>=2.1.0 in /usr/local/lib/python3.7/dist-packages (from facebook_business) (2.2.1)\n",
            "Requirement already satisfied: aiohttp; python_version >= \"3.5.3\" in /usr/local/lib/python3.7/dist-packages (from facebook_business) (3.7.4.post0)\n",
            "Requirement already satisfied: certifi>=2017.4.17 in /usr/local/lib/python3.7/dist-packages (from requests>=2.3.0->facebook_business) (2021.5.30)\n",
            "Requirement already satisfied: idna<3,>=2.5 in /usr/local/lib/python3.7/dist-packages (from requests>=2.3.0->facebook_business) (2.10)\n",
            "Requirement already satisfied: urllib3!=1.25.0,!=1.25.1,<1.26,>=1.21.1 in /usr/local/lib/python3.7/dist-packages (from requests>=2.3.0->facebook_business) (1.24.3)\n",
            "Requirement already satisfied: chardet<4,>=3.0.2 in /usr/local/lib/python3.7/dist-packages (from requests>=2.3.0->facebook_business) (3.0.4)\n",
            "Requirement already satisfied: async-timeout<4.0,>=3.0 in /usr/local/lib/python3.7/dist-packages (from aiohttp; python_version >= \"3.5.3\"->facebook_business) (3.0.1)\n",
            "Requirement already satisfied: yarl<2.0,>=1.0 in /usr/local/lib/python3.7/dist-packages (from aiohttp; python_version >= \"3.5.3\"->facebook_business) (1.6.3)\n",
            "Requirement already satisfied: attrs>=17.3.0 in /usr/local/lib/python3.7/dist-packages (from aiohttp; python_version >= \"3.5.3\"->facebook_business) (21.2.0)\n",
            "Requirement already satisfied: multidict<7.0,>=4.5 in /usr/local/lib/python3.7/dist-packages (from aiohttp; python_version >= \"3.5.3\"->facebook_business) (5.1.0)\n",
            "Requirement already satisfied: typing-extensions>=3.6.5 in /usr/local/lib/python3.7/dist-packages (from aiohttp; python_version >= \"3.5.3\"->facebook_business) (3.7.4.3)\n"
          ],
          "name": "stdout"
        }
      ]
    },
    {
      "cell_type": "code",
      "metadata": {
        "id": "OXgBtJ48US52"
      },
      "source": [
        "from facebook_business.adobjects.adaccount import AdAccount\n",
        "from facebook_business.adobjects.adsinsights import AdsInsights\n",
        "from facebook_business.adobjects.campaign import Campaign\n",
        "from facebook_business.api import FacebookAdsApi\n",
        "import pandas as pd\n",
        "import csv\n",
        "import os\n",
        "import json"
      ],
      "execution_count": 49,
      "outputs": []
    },
    {
      "cell_type": "code",
      "metadata": {
        "id": "FjZxHP31zaNu"
      },
      "source": [
        "adaccounts = pd.read_csv('/content/drive/MyDrive/Colab Notebooks/API-Facebook/cuentas_publicitarias.csv')"
      ],
      "execution_count": 192,
      "outputs": []
    },
    {
      "cell_type": "code",
      "metadata": {
        "colab": {
          "base_uri": "https://localhost:8080/"
        },
        "id": "71cd9RyY6klB",
        "outputId": "62a54d7c-2bb5-4ae8-9bb9-027fdf571ce0"
      },
      "source": [
        "lista_adaccounts = list(adaccounts['Cuenta'])\n",
        "lista_adaccounts"
      ],
      "execution_count": 196,
      "outputs": [
        {
          "output_type": "execute_result",
          "data": {
            "text/plain": [
              "[432364614205126,\n",
              " 612465482865411,\n",
              " 901953636894879,\n",
              " 1676027849277691,\n",
              " 1676021105945032,\n",
              " 776321326531763,\n",
              " 395930497739553,\n",
              " 226722362084072,\n",
              " 1676017922612017,\n",
              " 1750723025141506,\n",
              " 1896556807224793,\n",
              " 233103747909038,\n",
              " 1815245522022589,\n",
              " 562871570914600,\n",
              " 3027742033916939,\n",
              " 1349841052039994,\n",
              " 4898110746930177,\n",
              " 524427544795562,\n",
              " 145593750825245,\n",
              " 1674484279432048,\n",
              " 658084488275992,\n",
              " 227153891629571,\n",
              " 436108004087836,\n",
              " 253286165792123,\n",
              " 536689880372649,\n",
              " 3029880653769152,\n",
              " 649041438992646,\n",
              " 671866970303747,\n",
              " 2723835421060528,\n",
              " 3010524905695568,\n",
              " 1913010645579409,\n",
              " 377907262695592,\n",
              " 306970693467137,\n",
              " 320695198460542,\n",
              " 2069626873363173,\n",
              " 791282541077478,\n",
              " 271384780070878,\n",
              " 663447964191096,\n",
              " 742037566686050,\n",
              " 633199297176473,\n",
              " 1950905981789875,\n",
              " 402020977310283,\n",
              " 302358783772441,\n",
              " 1918331391714001,\n",
              " 172123060158523,\n",
              " 756636414541056,\n",
              " 1752027305011078,\n",
              " 1765843093629499,\n",
              " 1950905215123285,\n",
              " 1961977880682685,\n",
              " 1953760018171138,\n",
              " 626308547722922,\n",
              " 2149774148639490,\n",
              " 1917943005086173,\n",
              " 1914387455441728,\n",
              " 1918332771713863,\n",
              " 1918330901714050,\n",
              " 1943243239222816,\n",
              " 1914390262108114,\n",
              " 1918271968386610,\n",
              " 1914391868774620,\n",
              " 1370221813079121,\n",
              " 239554536254267,\n",
              " 232771554137559,\n",
              " 1917720881775052,\n",
              " 1977658159114657,\n",
              " 2017299231817216,\n",
              " 2017299231817216,\n",
              " 1961975800682893,\n",
              " 1845100385703769,\n",
              " 1953759348171205,\n",
              " 214197592719357,\n",
              " 2917383245147165,\n",
              " 199841041644599,\n",
              " 1407665609588339,\n",
              " 126555582726837,\n",
              " 3846386662096739,\n",
              " 124239226361139,\n",
              " 349765982845983,\n",
              " 841646829749263,\n",
              " 3939346449458462,\n",
              " 232040228595044,\n",
              " 335504517903941,\n",
              " 763230327931413,\n",
              " 454637852399012,\n",
              " 3557581637697947,\n",
              " 352991129175072,\n",
              " 477090473723089,\n",
              " 2901101186878762,\n",
              " 1058049128008745,\n",
              " 258458362118384,\n",
              " 251755388717588,\n",
              " 154766009862792,\n",
              " 125258079629019,\n",
              " 670486250032775,\n",
              " 807490766252074,\n",
              " 330430211761529,\n",
              " 1123677114751500,\n",
              " 2252032001787475,\n",
              " 346002812687715,\n",
              " 2400899790188513,\n",
              " 3373037802810299,\n",
              " 910722483030401,\n",
              " 920058741729509,\n",
              " 2677454072518587,\n",
              " 339831123644850,\n",
              " 709420396522901,\n",
              " 251521052508311,\n",
              " 406754184103768,\n",
              " 446067766498483,\n",
              " 263283908251924,\n",
              " 2010785729135233,\n",
              " 515823732213307,\n",
              " 776488256214997,\n",
              " 324336198484769,\n",
              " 148939273731246,\n",
              " 207414203683607,\n",
              " 401102547421076,\n",
              " 630565681087741,\n",
              " 223860162347788,\n",
              " 587130488550204,\n",
              " 796324127468139,\n",
              " 360422181157718,\n",
              " 2022888964591576,\n",
              " 1913602475520226,\n",
              " 1980848375462302,\n",
              " 334371490464058,\n",
              " 1676018672611942,\n",
              " 1773888946158247,\n",
              " 1676022752611534,\n",
              " 1784944661719342,\n",
              " 1956725231207950,\n",
              " 1557333344309490,\n",
              " 371561944063199,\n",
              " 490792171979691,\n",
              " 1374890309441089,\n",
              " 1406941329594862,\n",
              " 1765842716962870,\n",
              " 1765843253629483,\n",
              " 305461764043987,\n",
              " 908150166354768]"
            ]
          },
          "metadata": {
            "tags": []
          },
          "execution_count": 196
        }
      ]
    },
    {
      "cell_type": "code",
      "metadata": {
        "id": "9m3iVk89sC6w"
      },
      "source": [
        "lista_adaccounts_prueba = ['#',
        '#,
        '#']
      ],
      "execution_count": 134,
      "outputs": []
    },
    {
      "cell_type": "code",
      "metadata": {
        "id": "dAV1JhZaUsu0",
        "colab": {
          "base_uri": "https://localhost:8080/"
        },
        "outputId": "aff4b31a-64e7-4654-8d3e-d3752fe888e3"
      },
      "source": [
        "my_access_token = '##",
        "my_app_secret = '##',
        "my_app_id = '##',
        "FacebookAdsApi.init(access_token=my_access_token)"
      ],
      "execution_count": 145,
      "outputs": [
        {
          "output_type": "execute_result",
          "data": {
            "text/plain": [
              "<facebook_business.api.FacebookAdsApi at 0x7fb851cf18d0>"
            ]
          },
          "metadata": {
            "tags": []
          },
          "execution_count": 145
        }
      ]
    },
    {
      "cell_type": "markdown",
      "metadata": {
        "id": "eikQ6uWy5CEO"
      },
      "source": [
        "###Código escalable"
      ]
    },
    {
      "cell_type": "markdown",
      "metadata": {
        "id": "YTEJAvPA5GMj"
      },
      "source": [
        "Para crear las cuentas publicitarias como las requiere Facebook, se agrega el ACT y se asegura que sea una lista de strings."
      ]
    },
    {
      "cell_type": "code",
      "metadata": {
        "id": "0j6qIFO-kwAC"
      },
      "source": [
        "def cuentas_publicitarias():\n",
        "  lista_de_prueba = []\n",
        "  #lista_adaccounts = list(adaccounts['Cuenta'])\n",
        "  for elemento in lista_adaccounts:\n",
        "    cuenta = str(elemento)\n",
        "    ad_account_act = str('act_'+ cuenta)\n",
        "    lista_de_prueba.append(ad_account_act)\n",
        "  return lista_de_prueba"
      ],
      "execution_count": 199,
      "outputs": []
    },
    {
      "cell_type": "code",
      "metadata": {
        "colab": {
          "base_uri": "https://localhost:8080/"
        },
        "id": "CVrmTmrFRnPW",
        "outputId": "5e11d37d-83d1-4b57-9404-adc1e1264cbd"
      },
      "source": [
        "cuentas_publicitarias()"
      ],
      "execution_count": 200,
      "outputs": [
        {
          "output_type": "execute_result",
          "data": {
            "text/plain": [
              "['act_432364614205126',\n",
              " 'act_612465482865411',\n",
              " 'act_901953636894879',\n",
              " 'act_1676027849277691',\n",
              " 'act_1676021105945032',\n",
              " 'act_776321326531763',\n",
              " 'act_395930497739553',\n",
              " 'act_226722362084072',\n",
              " 'act_1676017922612017',\n",
              " 'act_1750723025141506',\n",
              " 'act_1896556807224793',\n",
              " 'act_233103747909038',\n",
              " 'act_1815245522022589',\n",
              " 'act_562871570914600',\n",
              " 'act_3027742033916939',\n",
              " 'act_1349841052039994',\n",
              " 'act_4898110746930177',\n",
              " 'act_524427544795562',\n",
              " 'act_145593750825245',\n",
              " 'act_1674484279432048',\n",
              " 'act_658084488275992',\n",
              " 'act_227153891629571',\n",
              " 'act_436108004087836',\n",
              " 'act_253286165792123',\n",
              " 'act_536689880372649',\n",
              " 'act_3029880653769152',\n",
              " 'act_649041438992646',\n",
              " 'act_671866970303747',\n",
              " 'act_2723835421060528',\n",
              " 'act_3010524905695568',\n",
              " 'act_1913010645579409',\n",
              " 'act_377907262695592',\n",
              " 'act_306970693467137',\n",
              " 'act_320695198460542',\n",
              " 'act_2069626873363173',\n",
              " 'act_791282541077478',\n",
              " 'act_271384780070878',\n",
              " 'act_663447964191096',\n",
              " 'act_742037566686050',\n",
              " 'act_633199297176473',\n",
              " 'act_1950905981789875',\n",
              " 'act_402020977310283',\n",
              " 'act_302358783772441',\n",
              " 'act_1918331391714001',\n",
              " 'act_172123060158523',\n",
              " 'act_756636414541056',\n",
              " 'act_1752027305011078',\n",
              " 'act_1765843093629499',\n",
              " 'act_1950905215123285',\n",
              " 'act_1961977880682685',\n",
              " 'act_1953760018171138',\n",
              " 'act_626308547722922',\n",
              " 'act_2149774148639490',\n",
              " 'act_1917943005086173',\n",
              " 'act_1914387455441728',\n",
              " 'act_1918332771713863',\n",
              " 'act_1918330901714050',\n",
              " 'act_1943243239222816',\n",
              " 'act_1914390262108114',\n",
              " 'act_1918271968386610',\n",
              " 'act_1914391868774620',\n",
              " 'act_1370221813079121',\n",
              " 'act_239554536254267',\n",
              " 'act_232771554137559',\n",
              " 'act_1917720881775052',\n",
              " 'act_1977658159114657',\n",
              " 'act_2017299231817216',\n",
              " 'act_2017299231817216',\n",
              " 'act_1961975800682893',\n",
              " 'act_1845100385703769',\n",
              " 'act_1953759348171205',\n",
              " 'act_214197592719357',\n",
              " 'act_2917383245147165',\n",
              " 'act_199841041644599',\n",
              " 'act_1407665609588339',\n",
              " 'act_126555582726837',\n",
              " 'act_3846386662096739',\n",
              " 'act_124239226361139',\n",
              " 'act_349765982845983',\n",
              " 'act_841646829749263',\n",
              " 'act_3939346449458462',\n",
              " 'act_232040228595044',\n",
              " 'act_335504517903941',\n",
              " 'act_763230327931413',\n",
              " 'act_454637852399012',\n",
              " 'act_3557581637697947',\n",
              " 'act_352991129175072',\n",
              " 'act_477090473723089',\n",
              " 'act_2901101186878762',\n",
              " 'act_1058049128008745',\n",
              " 'act_258458362118384',\n",
              " 'act_251755388717588',\n",
              " 'act_154766009862792',\n",
              " 'act_125258079629019',\n",
              " 'act_670486250032775',\n",
              " 'act_807490766252074',\n",
              " 'act_330430211761529',\n",
              " 'act_1123677114751500',\n",
              " 'act_2252032001787475',\n",
              " 'act_346002812687715',\n",
              " 'act_2400899790188513',\n",
              " 'act_3373037802810299',\n",
              " 'act_910722483030401',\n",
              " 'act_920058741729509',\n",
              " 'act_2677454072518587',\n",
              " 'act_339831123644850',\n",
              " 'act_709420396522901',\n",
              " 'act_251521052508311',\n",
              " 'act_406754184103768',\n",
              " 'act_446067766498483',\n",
              " 'act_263283908251924',\n",
              " 'act_2010785729135233',\n",
              " 'act_515823732213307',\n",
              " 'act_776488256214997',\n",
              " 'act_324336198484769',\n",
              " 'act_148939273731246',\n",
              " 'act_207414203683607',\n",
              " 'act_401102547421076',\n",
              " 'act_630565681087741',\n",
              " 'act_223860162347788',\n",
              " 'act_587130488550204',\n",
              " 'act_796324127468139',\n",
              " 'act_360422181157718',\n",
              " 'act_2022888964591576',\n",
              " 'act_1913602475520226',\n",
              " 'act_1980848375462302',\n",
              " 'act_334371490464058',\n",
              " 'act_1676018672611942',\n",
              " 'act_1773888946158247',\n",
              " 'act_1676022752611534',\n",
              " 'act_1784944661719342',\n",
              " 'act_1956725231207950',\n",
              " 'act_1557333344309490',\n",
              " 'act_371561944063199',\n",
              " 'act_490792171979691',\n",
              " 'act_1374890309441089',\n",
              " 'act_1406941329594862',\n",
              " 'act_1765842716962870',\n",
              " 'act_1765843253629483',\n",
              " 'act_305461764043987',\n",
              " 'act_908150166354768']"
            ]
          },
          "metadata": {
            "tags": []
          },
          "execution_count": 200
        }
      ]
    },
    {
      "cell_type": "markdown",
      "metadata": {
        "id": "k-tlSwjd5QUN"
      },
      "source": [
        "Se crea una función que pida la información para cada una de las cuentas publicitarias que se crearon en la función ***cuentas_publicitarias***. \n",
        "Una vez creadas se guardan en un data frame que se agrega a otro data frame para finalmente crear un DF de todo el año asignado."
      ]
    },
    {
      "cell_type": "code",
      "metadata": {
        "id": "NeA4P4dC0ZUJ"
      },
      "source": [
        "def data_accounts(lista_de_cuenta):\n",
        "  df_this_year = pd.DataFrame()\n",
        "  for x in lista_de_cuenta:\n",
        "    my_account = AdAccount(x)\n",
        "    fields = ['spend', 'clicks', 'impressions','account_name','campaign_name','objective','adset_name','account_id','ad_id','cpc','cpm','ctr','action_values','conversions']\n",
        "    params = {'action_attribution_windows':[\"7d_click\",\"1d_view\"],'date_preset':'this_year','level':'campaign'}\n",
        "    activities = my_account.get_activities()\n",
        "    campaigns = my_account.get_campaigns()\n",
        "    results_this_year = my_account.get_insights(\n",
        "        fields=fields, \n",
        "        params=params\n",
        "    )\n",
        "    df_results_this_year = pd.DataFrame(results_this_year)\n",
        "    df_this_year = df_this_year.append(df_results_this_year)\n",
        "  return( df_this_year)\n",
        "\n"
      ],
      "execution_count": 201,
      "outputs": []
    },
    {
      "cell_type": "markdown",
      "metadata": {
        "id": "XF1qNyj_5yHQ"
      },
      "source": [
        "Se llaman ambas funciones para obtener los datos y se guardan en la variable ***df_this_year***"
      ]
    },
    {
      "cell_type": "code",
      "metadata": {
        "id": "h8Qtu0buSIYD"
      },
      "source": [
        "df_this_year = data_accounts(cuentas_publicitarias())"
      ],
      "execution_count": 202,
      "outputs": []
    },
    {
      "cell_type": "code",
      "metadata": {
        "colab": {
          "base_uri": "https://localhost:8080/",
          "height": 830
        },
        "id": "WC2PN4b68YNy",
        "outputId": "906074e8-e3cd-495c-a66f-84f7fab4df98"
      },
      "source": [
        "df_this_year"
      ],
      "execution_count": 203,
      "outputs": [
        {
          "output_type": "execute_result",
          "data": {
            "text/html": [
              "<div>\n",
              "<style scoped>\n",
              "    .dataframe tbody tr th:only-of-type {\n",
              "        vertical-align: middle;\n",
              "    }\n",
              "\n",
              "    .dataframe tbody tr th {\n",
              "        vertical-align: top;\n",
              "    }\n",
              "\n",
              "    .dataframe thead th {\n",
              "        text-align: right;\n",
              "    }\n",
              "</style>\n",
              "<table border=\"1\" class=\"dataframe\">\n",
              "  <thead>\n",
              "    <tr style=\"text-align: right;\">\n",
              "      <th></th>\n",
              "      <th>account_id</th>\n",
              "      <th>account_name</th>\n",
              "      <th>campaign_name</th>\n",
              "      <th>clicks</th>\n",
              "      <th>cpc</th>\n",
              "      <th>cpm</th>\n",
              "      <th>ctr</th>\n",
              "      <th>date_start</th>\n",
              "      <th>date_stop</th>\n",
              "      <th>impressions</th>\n",
              "      <th>objective</th>\n",
              "      <th>spend</th>\n",
              "      <th>conversions</th>\n",
              "      <th>action_values</th>\n",
              "    </tr>\n",
              "  </thead>\n",
              "  <tbody>\n",
              "    <tr>\n",
              "      <th>0</th>\n",
              "      <td>612465482865411</td>\n",
              "      <td>* LAB | CRDH</td>\n",
              "      <td>CRDH|Foro Diálogos|FB-IG|Link Ad</td>\n",
              "      <td>20535</td>\n",
              "      <td>0.58578</td>\n",
              "      <td>49.275149</td>\n",
              "      <td>8.411881</td>\n",
              "      <td>2021-01-01</td>\n",
              "      <td>2021-07-16</td>\n",
              "      <td>244119</td>\n",
              "      <td>LINK_CLICKS</td>\n",
              "      <td>12029</td>\n",
              "      <td>NaN</td>\n",
              "      <td>NaN</td>\n",
              "    </tr>\n",
              "    <tr>\n",
              "      <th>1</th>\n",
              "      <td>612465482865411</td>\n",
              "      <td>* LAB | CRDH</td>\n",
              "      <td>Panel Impulsa|Panel Impulsa|FB-IG|Alcance</td>\n",
              "      <td>1703</td>\n",
              "      <td>4.932472</td>\n",
              "      <td>6.495078</td>\n",
              "      <td>0.13168</td>\n",
              "      <td>2021-01-01</td>\n",
              "      <td>2021-07-16</td>\n",
              "      <td>1293287</td>\n",
              "      <td>REACH</td>\n",
              "      <td>8400</td>\n",
              "      <td>NaN</td>\n",
              "      <td>NaN</td>\n",
              "    </tr>\n",
              "    <tr>\n",
              "      <th>2</th>\n",
              "      <td>612465482865411</td>\n",
              "      <td>* LAB | CRDH</td>\n",
              "      <td>Panel Impulsa|Panel Impulsa|FB-IG|Views</td>\n",
              "      <td>1</td>\n",
              "      <td>4500</td>\n",
              "      <td>27.401765</td>\n",
              "      <td>0.000609</td>\n",
              "      <td>2021-01-01</td>\n",
              "      <td>2021-07-16</td>\n",
              "      <td>164223</td>\n",
              "      <td>VIDEO_VIEWS</td>\n",
              "      <td>4500</td>\n",
              "      <td>NaN</td>\n",
              "      <td>NaN</td>\n",
              "    </tr>\n",
              "    <tr>\n",
              "      <th>3</th>\n",
              "      <td>612465482865411</td>\n",
              "      <td>* LAB | CRDH</td>\n",
              "      <td>CRDH|Global Dignity|FB-IG|Alcance</td>\n",
              "      <td>1062</td>\n",
              "      <td>5.286252</td>\n",
              "      <td>6.847043</td>\n",
              "      <td>0.129525</td>\n",
              "      <td>2021-01-01</td>\n",
              "      <td>2021-07-16</td>\n",
              "      <td>819916</td>\n",
              "      <td>REACH</td>\n",
              "      <td>5614</td>\n",
              "      <td>NaN</td>\n",
              "      <td>NaN</td>\n",
              "    </tr>\n",
              "    <tr>\n",
              "      <th>4</th>\n",
              "      <td>612465482865411</td>\n",
              "      <td>* LAB | CRDH</td>\n",
              "      <td>CRDH|Cursos de Dignidad Humana|FB-IG|Alcance</td>\n",
              "      <td>4295</td>\n",
              "      <td>3.734109</td>\n",
              "      <td>7.443239</td>\n",
              "      <td>0.199331</td>\n",
              "      <td>2021-01-01</td>\n",
              "      <td>2021-07-16</td>\n",
              "      <td>2154707</td>\n",
              "      <td>REACH</td>\n",
              "      <td>16038</td>\n",
              "      <td>NaN</td>\n",
              "      <td>NaN</td>\n",
              "    </tr>\n",
              "    <tr>\n",
              "      <th>...</th>\n",
              "      <td>...</td>\n",
              "      <td>...</td>\n",
              "      <td>...</td>\n",
              "      <td>...</td>\n",
              "      <td>...</td>\n",
              "      <td>...</td>\n",
              "      <td>...</td>\n",
              "      <td>...</td>\n",
              "      <td>...</td>\n",
              "      <td>...</td>\n",
              "      <td>...</td>\n",
              "      <td>...</td>\n",
              "      <td>...</td>\n",
              "      <td>...</td>\n",
              "    </tr>\n",
              "    <tr>\n",
              "      <th>12</th>\n",
              "      <td>908150166354768</td>\n",
              "      <td>TecReview 2020</td>\n",
              "      <td>TEC REVIEW - TRÁFICO  - JUN 2021</td>\n",
              "      <td>865952</td>\n",
              "      <td>0.084069</td>\n",
              "      <td>16.240374</td>\n",
              "      <td>19.317992</td>\n",
              "      <td>2021-01-01</td>\n",
              "      <td>2021-07-16</td>\n",
              "      <td>4482619</td>\n",
              "      <td>LINK_CLICKS</td>\n",
              "      <td>72799.41</td>\n",
              "      <td>NaN</td>\n",
              "      <td>NaN</td>\n",
              "    </tr>\n",
              "    <tr>\n",
              "      <th>13</th>\n",
              "      <td>908150166354768</td>\n",
              "      <td>TecReview 2020</td>\n",
              "      <td>TEC REVIEW - INTERACCIONES  - JUN 2021</td>\n",
              "      <td>44875</td>\n",
              "      <td>0.131476</td>\n",
              "      <td>17.381774</td>\n",
              "      <td>13.22046</td>\n",
              "      <td>2021-01-01</td>\n",
              "      <td>2021-07-16</td>\n",
              "      <td>339436</td>\n",
              "      <td>POST_ENGAGEMENT</td>\n",
              "      <td>5900</td>\n",
              "      <td>NaN</td>\n",
              "      <td>NaN</td>\n",
              "    </tr>\n",
              "    <tr>\n",
              "      <th>14</th>\n",
              "      <td>908150166354768</td>\n",
              "      <td>TecReview 2020</td>\n",
              "      <td>TEC REVIEW - VIDEO  - JUL 2021</td>\n",
              "      <td>296</td>\n",
              "      <td>3.378277</td>\n",
              "      <td>8.504014</td>\n",
              "      <td>0.251726</td>\n",
              "      <td>2021-01-01</td>\n",
              "      <td>2021-07-16</td>\n",
              "      <td>117588</td>\n",
              "      <td>VIDEO_VIEWS</td>\n",
              "      <td>999.97</td>\n",
              "      <td>NaN</td>\n",
              "      <td>NaN</td>\n",
              "    </tr>\n",
              "    <tr>\n",
              "      <th>15</th>\n",
              "      <td>908150166354768</td>\n",
              "      <td>TecReview 2020</td>\n",
              "      <td>TEC REVIEW - TRAFICO  - JUL 2021</td>\n",
              "      <td>156844</td>\n",
              "      <td>0.089241</td>\n",
              "      <td>17.026921</td>\n",
              "      <td>19.079618</td>\n",
              "      <td>2021-01-01</td>\n",
              "      <td>2021-07-16</td>\n",
              "      <td>822050</td>\n",
              "      <td>LINK_CLICKS</td>\n",
              "      <td>13996.98</td>\n",
              "      <td>NaN</td>\n",
              "      <td>NaN</td>\n",
              "    </tr>\n",
              "    <tr>\n",
              "      <th>16</th>\n",
              "      <td>908150166354768</td>\n",
              "      <td>TecReview 2020</td>\n",
              "      <td>TEC REVIEW - INTERACCIONES  - JUL 2021</td>\n",
              "      <td>15814</td>\n",
              "      <td>0.141594</td>\n",
              "      <td>14.098817</td>\n",
              "      <td>9.957247</td>\n",
              "      <td>2021-01-01</td>\n",
              "      <td>2021-07-16</td>\n",
              "      <td>158819</td>\n",
              "      <td>POST_ENGAGEMENT</td>\n",
              "      <td>2239.16</td>\n",
              "      <td>NaN</td>\n",
              "      <td>NaN</td>\n",
              "    </tr>\n",
              "  </tbody>\n",
              "</table>\n",
              "<p>1684 rows × 14 columns</p>\n",
              "</div>"
            ],
            "text/plain": [
              "         account_id    account_name  ... conversions action_values\n",
              "0   612465482865411    * LAB | CRDH  ...         NaN           NaN\n",
              "1   612465482865411    * LAB | CRDH  ...         NaN           NaN\n",
              "2   612465482865411    * LAB | CRDH  ...         NaN           NaN\n",
              "3   612465482865411    * LAB | CRDH  ...         NaN           NaN\n",
              "4   612465482865411    * LAB | CRDH  ...         NaN           NaN\n",
              "..              ...             ...  ...         ...           ...\n",
              "12  908150166354768  TecReview 2020  ...         NaN           NaN\n",
              "13  908150166354768  TecReview 2020  ...         NaN           NaN\n",
              "14  908150166354768  TecReview 2020  ...         NaN           NaN\n",
              "15  908150166354768  TecReview 2020  ...         NaN           NaN\n",
              "16  908150166354768  TecReview 2020  ...         NaN           NaN\n",
              "\n",
              "[1684 rows x 14 columns]"
            ]
          },
          "metadata": {
            "tags": []
          },
          "execution_count": 203
        }
      ]
    },
    {
      "cell_type": "markdown",
      "metadata": {
        "id": "4vozNhqu54RV"
      },
      "source": [
        "Se solicita el año pasado con las mismas características pero cambiando al año pasado."
      ]
    },
    {
      "cell_type": "code",
      "metadata": {
        "id": "Tbj41eMz4ipu"
      },
      "source": [
        "def data_accounts_last_year(lista_de_cuenta_last_year):\n",
        "  df_this_year = pd.DataFrame()\n",
        "  for x in lista_de_cuenta_last_year:\n",
        "    my_account = AdAccount(x)\n",
        "    fields = ['spend', 'clicks', 'impressions','account_name','campaign_name','objective','adset_name','account_id','ad_id','cpc','cpm','ctr','action_values','conversions']\n",
        "    params = {'action_attribution_windows':[\"7d_click\",\"1d_view\"],'date_preset':'last_year','level':'campaign'}\n",
        "    activities = my_account.get_activities()\n",
        "    campaigns = my_account.get_campaigns()\n",
        "    results_this_year = my_account.get_insights(\n",
        "        fields=fields, \n",
        "        params=params\n",
        "    )\n",
        "    df_results_this_year = pd.DataFrame(results_this_year)\n",
        "    df_this_year = df_this_year.append(df_results_this_year)\n",
        "  return( df_this_year)\n"
      ],
      "execution_count": 187,
      "outputs": []
    },
    {
      "cell_type": "code",
      "metadata": {
        "id": "MnPKTW0J4sQS"
      },
      "source": [
        "df_last_year = data_accounts_last_year(cuentas_publicitarias())"
      ],
      "execution_count": 188,
      "outputs": []
    },
    {
      "cell_type": "markdown",
      "metadata": {
        "id": "mh4BYeY-5-TU"
      },
      "source": [
        "Se unen ambos data frames para mostrar los datos de ambos ciclos (año en curso y pasado)"
      ]
    },
    {
      "cell_type": "code",
      "metadata": {
        "id": "sJkEvd3D41pY"
      },
      "source": [
        "joined = [df_last_year,df_this_year]\n",
        "df_joined = pd.concat(joined)"
      ],
      "execution_count": 189,
      "outputs": []
    },
    {
      "cell_type": "code",
      "metadata": {
        "colab": {
          "base_uri": "https://localhost:8080/",
          "height": 473
        },
        "id": "G2ECfvf344ty",
        "outputId": "eddf6042-7e2f-4f3d-fb09-f26ecc420c64"
      },
      "source": [
        "df_joined"
      ],
      "execution_count": 190,
      "outputs": [
        {
          "output_type": "execute_result",
          "data": {
            "text/html": [
              "<div>\n",
              "<style scoped>\n",
              "    .dataframe tbody tr th:only-of-type {\n",
              "        vertical-align: middle;\n",
              "    }\n",
              "\n",
              "    .dataframe tbody tr th {\n",
              "        vertical-align: top;\n",
              "    }\n",
              "\n",
              "    .dataframe thead th {\n",
              "        text-align: right;\n",
              "    }\n",
              "</style>\n",
              "<table border=\"1\" class=\"dataframe\">\n",
              "  <thead>\n",
              "    <tr style=\"text-align: right;\">\n",
              "      <th></th>\n",
              "      <th>account_id</th>\n",
              "      <th>account_name</th>\n",
              "      <th>campaign_name</th>\n",
              "      <th>clicks</th>\n",
              "      <th>cpc</th>\n",
              "      <th>cpm</th>\n",
              "      <th>ctr</th>\n",
              "      <th>date_start</th>\n",
              "      <th>date_stop</th>\n",
              "      <th>impressions</th>\n",
              "      <th>objective</th>\n",
              "      <th>spend</th>\n",
              "    </tr>\n",
              "  </thead>\n",
              "  <tbody>\n",
              "    <tr>\n",
              "      <th>0</th>\n",
              "      <td>612465482865411</td>\n",
              "      <td>* LAB | CRDH</td>\n",
              "      <td>20/02_KTBO_Premio Eugenio Garza Sada_Feb_Fb_Clics</td>\n",
              "      <td>82828</td>\n",
              "      <td>0.737999</td>\n",
              "      <td>12.73262</td>\n",
              "      <td>1.72529</td>\n",
              "      <td>2020-01-01</td>\n",
              "      <td>2020-12-31</td>\n",
              "      <td>4800817</td>\n",
              "      <td>LINK_CLICKS</td>\n",
              "      <td>61126.98</td>\n",
              "    </tr>\n",
              "    <tr>\n",
              "      <th>1</th>\n",
              "      <td>612465482865411</td>\n",
              "      <td>* LAB | CRDH</td>\n",
              "      <td>20/05_KTBO_Proyectos Especiales_Tec_PREMIO LUI...</td>\n",
              "      <td>16</td>\n",
              "      <td>293.886875</td>\n",
              "      <td>34.519847</td>\n",
              "      <td>0.011746</td>\n",
              "      <td>2020-01-01</td>\n",
              "      <td>2020-12-31</td>\n",
              "      <td>136217</td>\n",
              "      <td>VIDEO_VIEWS</td>\n",
              "      <td>4702.19</td>\n",
              "    </tr>\n",
              "    <tr>\n",
              "      <th>2</th>\n",
              "      <td>612465482865411</td>\n",
              "      <td>* LAB | CRDH</td>\n",
              "      <td>20/05_KTBO_Proyectos Especiales_Tec_PREMIO LUI...</td>\n",
              "      <td>14579</td>\n",
              "      <td>0.752575</td>\n",
              "      <td>7.884242</td>\n",
              "      <td>1.047635</td>\n",
              "      <td>2020-01-01</td>\n",
              "      <td>2020-12-31</td>\n",
              "      <td>1391610</td>\n",
              "      <td>LINK_CLICKS</td>\n",
              "      <td>10971.79</td>\n",
              "    </tr>\n",
              "    <tr>\n",
              "      <th>3</th>\n",
              "      <td>612465482865411</td>\n",
              "      <td>* LAB | CRDH</td>\n",
              "      <td>20/09_KTBO_TEC_Mindfulness__FB/IG_Mexico_Tráfico</td>\n",
              "      <td>19025</td>\n",
              "      <td>0.840999</td>\n",
              "      <td>8.666464</td>\n",
              "      <td>1.030497</td>\n",
              "      <td>2020-01-01</td>\n",
              "      <td>2020-12-31</td>\n",
              "      <td>1846197</td>\n",
              "      <td>LINK_CLICKS</td>\n",
              "      <td>16000</td>\n",
              "    </tr>\n",
              "    <tr>\n",
              "      <th>4</th>\n",
              "      <td>612465482865411</td>\n",
              "      <td>* LAB | CRDH</td>\n",
              "      <td>20/09_KTBO_TEC_Coffee Hour __FB/IG_Mexico_Tráfico</td>\n",
              "      <td>25998</td>\n",
              "      <td>0.923147</td>\n",
              "      <td>10.752477</td>\n",
              "      <td>1.164763</td>\n",
              "      <td>2020-01-01</td>\n",
              "      <td>2020-12-31</td>\n",
              "      <td>2232042</td>\n",
              "      <td>LINK_CLICKS</td>\n",
              "      <td>23999.98</td>\n",
              "    </tr>\n",
              "    <tr>\n",
              "      <th>...</th>\n",
              "      <td>...</td>\n",
              "      <td>...</td>\n",
              "      <td>...</td>\n",
              "      <td>...</td>\n",
              "      <td>...</td>\n",
              "      <td>...</td>\n",
              "      <td>...</td>\n",
              "      <td>...</td>\n",
              "      <td>...</td>\n",
              "      <td>...</td>\n",
              "      <td>...</td>\n",
              "      <td>...</td>\n",
              "    </tr>\n",
              "    <tr>\n",
              "      <th>18</th>\n",
              "      <td>2723835421060528</td>\n",
              "      <td>ATR CVA</td>\n",
              "      <td>ATR_CVA_MasterClass_ESC_Trafico_Landing</td>\n",
              "      <td>669</td>\n",
              "      <td>1.49429</td>\n",
              "      <td>11.198638</td>\n",
              "      <td>0.749429</td>\n",
              "      <td>2021-01-01</td>\n",
              "      <td>2021-07-16</td>\n",
              "      <td>89268</td>\n",
              "      <td>LINK_CLICKS</td>\n",
              "      <td>999.68</td>\n",
              "    </tr>\n",
              "    <tr>\n",
              "      <th>19</th>\n",
              "      <td>2723835421060528</td>\n",
              "      <td>ATR CVA</td>\n",
              "      <td>ATR_CVA_MasterClass_Negocios_Trafico_Landing</td>\n",
              "      <td>950</td>\n",
              "      <td>1.578516</td>\n",
              "      <td>10.439992</td>\n",
              "      <td>0.66138</td>\n",
              "      <td>2021-01-01</td>\n",
              "      <td>2021-07-16</td>\n",
              "      <td>143639</td>\n",
              "      <td>LINK_CLICKS</td>\n",
              "      <td>1499.59</td>\n",
              "    </tr>\n",
              "    <tr>\n",
              "      <th>20</th>\n",
              "      <td>2723835421060528</td>\n",
              "      <td>ATR CVA</td>\n",
              "      <td>ATR_CVA_ACA_SI11May21_trafico</td>\n",
              "      <td>3302</td>\n",
              "      <td>2.119927</td>\n",
              "      <td>13.474495</td>\n",
              "      <td>0.635611</td>\n",
              "      <td>2021-01-01</td>\n",
              "      <td>2021-07-16</td>\n",
              "      <td>519500</td>\n",
              "      <td>LINK_CLICKS</td>\n",
              "      <td>7000</td>\n",
              "    </tr>\n",
              "    <tr>\n",
              "      <th>21</th>\n",
              "      <td>2723835421060528</td>\n",
              "      <td>ATR CVA</td>\n",
              "      <td>ATR_CVA_CampusTourING_Video_Landing</td>\n",
              "      <td>1469</td>\n",
              "      <td>2.864595</td>\n",
              "      <td>17.785522</td>\n",
              "      <td>0.620874</td>\n",
              "      <td>2021-01-01</td>\n",
              "      <td>2021-07-16</td>\n",
              "      <td>236602</td>\n",
              "      <td>VIDEO_VIEWS</td>\n",
              "      <td>4208.09</td>\n",
              "    </tr>\n",
              "    <tr>\n",
              "      <th>22</th>\n",
              "      <td>2723835421060528</td>\n",
              "      <td>ATR CVA</td>\n",
              "      <td>ATR_CVA_CampusTourING_Video_ClientesPotenciales</td>\n",
              "      <td>1085</td>\n",
              "      <td>3.086101</td>\n",
              "      <td>49.778049</td>\n",
              "      <td>1.612975</td>\n",
              "      <td>2021-01-01</td>\n",
              "      <td>2021-07-16</td>\n",
              "      <td>67267</td>\n",
              "      <td>LEAD_GENERATION</td>\n",
              "      <td>3348.42</td>\n",
              "    </tr>\n",
              "  </tbody>\n",
              "</table>\n",
              "<p>101 rows × 12 columns</p>\n",
              "</div>"
            ],
            "text/plain": [
              "          account_id  account_name  ...        objective     spend\n",
              "0    612465482865411  * LAB | CRDH  ...      LINK_CLICKS  61126.98\n",
              "1    612465482865411  * LAB | CRDH  ...      VIDEO_VIEWS   4702.19\n",
              "2    612465482865411  * LAB | CRDH  ...      LINK_CLICKS  10971.79\n",
              "3    612465482865411  * LAB | CRDH  ...      LINK_CLICKS     16000\n",
              "4    612465482865411  * LAB | CRDH  ...      LINK_CLICKS  23999.98\n",
              "..               ...           ...  ...              ...       ...\n",
              "18  2723835421060528       ATR CVA  ...      LINK_CLICKS    999.68\n",
              "19  2723835421060528       ATR CVA  ...      LINK_CLICKS   1499.59\n",
              "20  2723835421060528       ATR CVA  ...      LINK_CLICKS      7000\n",
              "21  2723835421060528       ATR CVA  ...      VIDEO_VIEWS   4208.09\n",
              "22  2723835421060528       ATR CVA  ...  LEAD_GENERATION   3348.42\n",
              "\n",
              "[101 rows x 12 columns]"
            ]
          },
          "metadata": {
            "tags": []
          },
          "execution_count": 190
        }
      ]
    },
    {
      "cell_type": "markdown",
      "metadata": {
        "id": "pddG3Alo6Jpv"
      },
      "source": [
        "###**ESTADÍSTICA**"
      ]
    },
    {
      "cell_type": "code",
      "metadata": {
        "id": "iri-_WNEq2CU"
      },
      "source": [
        "df_joined['spend'] = pd.to_numeric(df_joined['spend'])\n",
        "df_joined['clicks'] = pd.to_numeric(df_joined['clicks'])\n",
        "df_joined['impressions'] = pd.to_numeric(df_joined['impressions'])\n",
        "df_joined['cpc'] = pd.to_numeric(df_joined['cpc'])\n",
        "df_joined['cpm'] = pd.to_numeric(df_joined['cpm'])\n",
        "df_joined['ctr'] = pd.to_numeric(df_joined['ctr'])\n",
        "df_joined.dtypes"
      ],
      "execution_count": null,
      "outputs": []
    },
    {
      "cell_type": "code",
      "metadata": {
        "id": "XyAQTcMXwVAM"
      },
      "source": [
        "df_spend_mean = df_joined['spend'].mean()\n",
        "df_spend_mean"
      ],
      "execution_count": null,
      "outputs": []
    },
    {
      "cell_type": "code",
      "metadata": {
        "id": "NmC16VD91U_a"
      },
      "source": [
        "df_spend_mode = df_joined['spend'].mode()\n",
        "df_spend_mode"
      ],
      "execution_count": null,
      "outputs": []
    },
    {
      "cell_type": "code",
      "metadata": {
        "id": "txcmahiU05pG"
      },
      "source": [
        "df_clicks = [df_joined['clicks'].mean()]\n",
        "df_clicks"
      ],
      "execution_count": null,
      "outputs": []
    },
    {
      "cell_type": "code",
      "metadata": {
        "id": "QS6cy-XLSzEI"
      },
      "source": [
        "df_joined.groupby('objective')['impressions'].agg(pd.Series.count)\n"
      ],
      "execution_count": null,
      "outputs": []
    },
    {
      "cell_type": "code",
      "metadata": {
        "id": "ltAtWFUsWGIE"
      },
      "source": [
        "df_joined.groupby('objective')['impressions'].agg(pd.Series.max)"
      ],
      "execution_count": null,
      "outputs": []
    },
    {
      "cell_type": "code",
      "metadata": {
        "id": "ZrT5ol1AWIEQ"
      },
      "source": [
        "df_joined.groupby('objective')['impressions'].agg(pd.Series.min)"
      ],
      "execution_count": null,
      "outputs": []
    },
    {
      "cell_type": "code",
      "metadata": {
        "id": "LDHIbKPmWKHp"
      },
      "source": [
        "df_joined.groupby('objective')['impressions'].agg(pd.Series.mean)"
      ],
      "execution_count": null,
      "outputs": []
    },
    {
      "cell_type": "markdown",
      "metadata": {
        "id": "xy6_EKl9wUnq"
      },
      "source": [
        ""
      ]
    }
  ]
}
